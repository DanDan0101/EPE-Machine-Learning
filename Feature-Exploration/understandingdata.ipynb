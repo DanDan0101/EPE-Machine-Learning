{
 "metadata": {
  "language_info": {
   "codemirror_mode": {
    "name": "ipython",
    "version": 3
   },
   "file_extension": ".py",
   "mimetype": "text/x-python",
   "name": "python",
   "nbconvert_exporter": "python",
   "pygments_lexer": "ipython3",
   "version": "3.6.10-final"
  },
  "orig_nbformat": 2,
  "kernelspec": {
   "name": "python_defaultSpec_1599001282927",
   "display_name": "Python 3.6.10 64-bit ('tensorflow': conda)"
  }
 },
 "nbformat": 4,
 "nbformat_minor": 2,
 "cells": [
  {
   "cell_type": "code",
   "execution_count": 7,
   "metadata": {},
   "outputs": [],
   "source": [
    "import os\n",
    "import numpy as np\n",
    "from matplotlib import colors\n",
    "from matplotlib import pyplot as plt\n",
    "import h5py\n",
    "import pandas as pd"
   ]
  },
  {
   "cell_type": "code",
   "execution_count": 13,
   "metadata": {
    "tags": []
   },
   "outputs": [
    {
     "output_type": "stream",
     "name": "stdout",
     "text": "(5131613,)\n"
    }
   ],
   "source": [
    "f = h5py.File('processed-pythia82-lhc13-all-pt1-50k-r1_h022_e0175_t220_nonu_withPars_truth_0.z', 'r')\n",
    "dset = f['t_allpar_new'][()]\n",
    "print(dset.shape)\n",
    "features = ['index','j_index','j_zlogz', 'j_c1_b0_mmdt', 'j_c1_b1_mmdt', 'j_c2_b1_mmdt', 'j_d2_b1_mmdt', 'j_d2_a1_b1_mmdt', 'j_m2_b1_mmdt', 'j_n2_b1_mmdt', 'j_mass_mmdt', 'j_multiplicity']\n",
    "df = pd.DataFrame(dset, columns=features)"
   ]
  },
  {
   "cell_type": "code",
   "execution_count": 15,
   "metadata": {},
   "outputs": [
    {
     "output_type": "execute_result",
     "data": {
      "text/plain": "           index    j_index   j_zlogz  j_c1_b0_mmdt  j_c1_b1_mmdt  \\\n0              0     101333 -2.581735      0.360516      0.006662   \n1              1     101333 -2.581735      0.360516      0.006662   \n2              2     101333 -2.581735      0.360516      0.006662   \n3              3     101333 -2.581735      0.360516      0.006662   \n4              4     101333 -2.581735      0.360516      0.006662   \n...          ...        ...       ...           ...           ...   \n5131608  5131608  300123134 -3.525871      0.474667      0.095300   \n5131609  5131609  300123134 -3.525871      0.474667      0.095300   \n5131610  5131610  300123134 -3.525871      0.474667      0.095300   \n5131611  5131611  300123134 -3.525871      0.474667      0.095300   \n5131612  5131612  300123134 -3.525871      0.474667      0.095300   \n\n         j_c2_b1_mmdt  j_d2_b1_mmdt  j_d2_a1_b1_mmdt  j_m2_b1_mmdt  \\\n0            0.013948      2.093754         2.093754      0.104902   \n1            0.013948      2.093754         2.093754      0.104902   \n2            0.013948      2.093754         2.093754      0.104902   \n3            0.013948      2.093754         2.093754      0.104902   \n4            0.013948      2.093754         2.093754      0.104902   \n...               ...           ...              ...           ...   \n5131608      0.125135      1.313068         1.313068      0.113835   \n5131609      0.125135      1.313068         1.313068      0.113835   \n5131610      0.125135      1.313068         1.313068      0.113835   \n5131611      0.125135      1.313068         1.313068      0.113835   \n5131612      0.125135      1.313068         1.313068      0.113835   \n\n         j_n2_b1_mmdt  j_mass_mmdt  j_multiplicity  \n0            0.380295     9.118754            51.0  \n1            0.380295     9.118754            51.0  \n2            0.380295     9.118754            51.0  \n3            0.380295     9.118754            51.0  \n4            0.380295     9.118754            51.0  \n...               ...          ...             ...  \n5131608      0.310633   204.508606            83.0  \n5131609      0.310633   204.508606            83.0  \n5131610      0.310633   204.508606            83.0  \n5131611      0.310633   204.508606            83.0  \n5131612      0.310633   204.508606            83.0  \n\n[5131613 rows x 12 columns]",
      "text/html": "<div>\n<style scoped>\n    .dataframe tbody tr th:only-of-type {\n        vertical-align: middle;\n    }\n\n    .dataframe tbody tr th {\n        vertical-align: top;\n    }\n\n    .dataframe thead th {\n        text-align: right;\n    }\n</style>\n<table border=\"1\" class=\"dataframe\">\n  <thead>\n    <tr style=\"text-align: right;\">\n      <th></th>\n      <th>index</th>\n      <th>j_index</th>\n      <th>j_zlogz</th>\n      <th>j_c1_b0_mmdt</th>\n      <th>j_c1_b1_mmdt</th>\n      <th>j_c2_b1_mmdt</th>\n      <th>j_d2_b1_mmdt</th>\n      <th>j_d2_a1_b1_mmdt</th>\n      <th>j_m2_b1_mmdt</th>\n      <th>j_n2_b1_mmdt</th>\n      <th>j_mass_mmdt</th>\n      <th>j_multiplicity</th>\n    </tr>\n  </thead>\n  <tbody>\n    <tr>\n      <th>0</th>\n      <td>0</td>\n      <td>101333</td>\n      <td>-2.581735</td>\n      <td>0.360516</td>\n      <td>0.006662</td>\n      <td>0.013948</td>\n      <td>2.093754</td>\n      <td>2.093754</td>\n      <td>0.104902</td>\n      <td>0.380295</td>\n      <td>9.118754</td>\n      <td>51.0</td>\n    </tr>\n    <tr>\n      <th>1</th>\n      <td>1</td>\n      <td>101333</td>\n      <td>-2.581735</td>\n      <td>0.360516</td>\n      <td>0.006662</td>\n      <td>0.013948</td>\n      <td>2.093754</td>\n      <td>2.093754</td>\n      <td>0.104902</td>\n      <td>0.380295</td>\n      <td>9.118754</td>\n      <td>51.0</td>\n    </tr>\n    <tr>\n      <th>2</th>\n      <td>2</td>\n      <td>101333</td>\n      <td>-2.581735</td>\n      <td>0.360516</td>\n      <td>0.006662</td>\n      <td>0.013948</td>\n      <td>2.093754</td>\n      <td>2.093754</td>\n      <td>0.104902</td>\n      <td>0.380295</td>\n      <td>9.118754</td>\n      <td>51.0</td>\n    </tr>\n    <tr>\n      <th>3</th>\n      <td>3</td>\n      <td>101333</td>\n      <td>-2.581735</td>\n      <td>0.360516</td>\n      <td>0.006662</td>\n      <td>0.013948</td>\n      <td>2.093754</td>\n      <td>2.093754</td>\n      <td>0.104902</td>\n      <td>0.380295</td>\n      <td>9.118754</td>\n      <td>51.0</td>\n    </tr>\n    <tr>\n      <th>4</th>\n      <td>4</td>\n      <td>101333</td>\n      <td>-2.581735</td>\n      <td>0.360516</td>\n      <td>0.006662</td>\n      <td>0.013948</td>\n      <td>2.093754</td>\n      <td>2.093754</td>\n      <td>0.104902</td>\n      <td>0.380295</td>\n      <td>9.118754</td>\n      <td>51.0</td>\n    </tr>\n    <tr>\n      <th>...</th>\n      <td>...</td>\n      <td>...</td>\n      <td>...</td>\n      <td>...</td>\n      <td>...</td>\n      <td>...</td>\n      <td>...</td>\n      <td>...</td>\n      <td>...</td>\n      <td>...</td>\n      <td>...</td>\n      <td>...</td>\n    </tr>\n    <tr>\n      <th>5131608</th>\n      <td>5131608</td>\n      <td>300123134</td>\n      <td>-3.525871</td>\n      <td>0.474667</td>\n      <td>0.095300</td>\n      <td>0.125135</td>\n      <td>1.313068</td>\n      <td>1.313068</td>\n      <td>0.113835</td>\n      <td>0.310633</td>\n      <td>204.508606</td>\n      <td>83.0</td>\n    </tr>\n    <tr>\n      <th>5131609</th>\n      <td>5131609</td>\n      <td>300123134</td>\n      <td>-3.525871</td>\n      <td>0.474667</td>\n      <td>0.095300</td>\n      <td>0.125135</td>\n      <td>1.313068</td>\n      <td>1.313068</td>\n      <td>0.113835</td>\n      <td>0.310633</td>\n      <td>204.508606</td>\n      <td>83.0</td>\n    </tr>\n    <tr>\n      <th>5131610</th>\n      <td>5131610</td>\n      <td>300123134</td>\n      <td>-3.525871</td>\n      <td>0.474667</td>\n      <td>0.095300</td>\n      <td>0.125135</td>\n      <td>1.313068</td>\n      <td>1.313068</td>\n      <td>0.113835</td>\n      <td>0.310633</td>\n      <td>204.508606</td>\n      <td>83.0</td>\n    </tr>\n    <tr>\n      <th>5131611</th>\n      <td>5131611</td>\n      <td>300123134</td>\n      <td>-3.525871</td>\n      <td>0.474667</td>\n      <td>0.095300</td>\n      <td>0.125135</td>\n      <td>1.313068</td>\n      <td>1.313068</td>\n      <td>0.113835</td>\n      <td>0.310633</td>\n      <td>204.508606</td>\n      <td>83.0</td>\n    </tr>\n    <tr>\n      <th>5131612</th>\n      <td>5131612</td>\n      <td>300123134</td>\n      <td>-3.525871</td>\n      <td>0.474667</td>\n      <td>0.095300</td>\n      <td>0.125135</td>\n      <td>1.313068</td>\n      <td>1.313068</td>\n      <td>0.113835</td>\n      <td>0.310633</td>\n      <td>204.508606</td>\n      <td>83.0</td>\n    </tr>\n  </tbody>\n</table>\n<p>5131613 rows × 12 columns</p>\n</div>"
     },
     "metadata": {},
     "execution_count": 15
    }
   ],
   "source": [
    "df"
   ]
  },
  {
   "cell_type": "code",
   "execution_count": null,
   "metadata": {},
   "outputs": [],
   "source": []
  }
 ]
}