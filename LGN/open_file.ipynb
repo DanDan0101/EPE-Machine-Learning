{
 "metadata": {
  "language_info": {
   "codemirror_mode": {
    "name": "ipython",
    "version": 3
   },
   "file_extension": ".py",
   "mimetype": "text/x-python",
   "name": "python",
   "nbconvert_exporter": "python",
   "pygments_lexer": "ipython3",
   "version": "3.6.10-final"
  },
  "orig_nbformat": 2,
  "kernelspec": {
   "name": "python_defaultSpec_1599084740534",
   "display_name": "Python 3.6.10 64-bit ('tensorflow': conda)"
  }
 },
 "nbformat": 4,
 "nbformat_minor": 2,
 "cells": [
  {
   "cell_type": "code",
   "execution_count": 2,
   "metadata": {},
   "outputs": [],
   "source": [
    "import numpy as np\n",
    "import h5py\n",
    "import pandas as pd"
   ]
  },
  {
   "cell_type": "code",
   "execution_count": 5,
   "metadata": {
    "tags": []
   },
   "outputs": [],
   "source": [
    "df = pd.read_hdf('zenodo/train.h5', 'table')"
   ]
  },
  {
   "cell_type": "code",
   "execution_count": 6,
   "metadata": {},
   "outputs": [
    {
     "output_type": "execute_result",
     "data": {
      "text/plain": "            E_0        PX_0        PY_0        PZ_0         E_1        PX_1  \\\n375  474.071136 -250.347031 -223.651962 -334.738098  103.236237  -48.866222   \n377  150.504532  120.062393   76.852005  -48.274265   82.257057   63.801739   \n378  251.645386   10.427651 -147.573746  203.564880  104.147797   10.718256   \n379  451.566132  129.885437  -99.066292 -420.984100  208.410919   59.033958   \n380  399.093903 -168.432083  -47.205597 -358.717438  273.691956 -121.926941   \n..          ...         ...         ...         ...         ...         ...   \n587  206.171997   13.942102  114.328499 -171.001465  231.602356   19.010832   \n591  263.984161  -40.649391 -104.321312  239.065552  238.690689    8.786323   \n592   61.417538   42.901291   43.947723   -0.436818   45.521763   31.723654   \n593  261.215302   12.780115 -132.699203  224.635300  224.066376   52.028233   \n596  221.000015  -32.458290 -127.960335 -177.238876  109.126007  -16.046606   \n\n           PY_1        PZ_1         E_2       PX_2  ...  E_199  PX_199  \\\n375  -56.790775  -71.025490  105.255569 -55.415001  ...    0.0     0.0   \n377   42.754807  -29.454842   48.573559  36.763199  ...    0.0     0.0   \n378  -54.497948   88.101395   78.043213   5.724113  ...    0.0     0.0   \n379  -46.177090 -194.467941  190.183304  54.069675  ...    0.0     0.0   \n380  -30.803854 -243.088928  152.837219 -44.400204  ...    0.0     0.0   \n..          ...         ...         ...        ...  ...    ...     ...   \n587   92.303848 -211.561432   95.868248   0.411594  ...    0.0     0.0   \n591 -101.236137  215.979828  126.197868   5.939164  ...    0.0     0.0   \n592   32.643845   -0.469300   44.801167  29.730831  ...    0.0     0.0   \n593 -101.145271  193.050354   67.573616  17.166769  ...    0.0     0.0   \n596  -62.676899  -87.878311  111.210052   0.395372  ...    0.0     0.0   \n\n     PY_199  PZ_199       truthE     truthPX     truthPY      truthPZ  ttv  \\\n375     0.0     0.0     0.000000    0.000000    0.000000     0.000000    0   \n377     0.0     0.0     0.000000    0.000000    0.000000     0.000000    0   \n378     0.0     0.0     0.000000    0.000000    0.000000     0.000000    0   \n379     0.0     0.0     0.000000    0.000000    0.000000     0.000000    0   \n380     0.0     0.0     0.000000    0.000000    0.000000     0.000000    0   \n..      ...     ...          ...         ...         ...          ...  ...   \n587     0.0     0.0  1301.364624   48.551048  674.270081 -1098.891968    0   \n591     0.0     0.0  1550.415405  -38.385075 -626.145813  1406.682983    0   \n592     0.0     0.0   654.942383  394.933441  467.778076  -162.717285    0   \n593     0.0     0.0  1100.826904  220.153702 -566.737549   901.328003    0   \n596     0.0     0.0  1407.074341 -177.511642 -737.924438 -1172.384033    0   \n\n     is_signal_new  \n375              0  \n377              0  \n378              0  \n379              0  \n380              0  \n..             ...  \n587              1  \n591              1  \n592              1  \n593              1  \n596              1  \n\n[1211000 rows x 806 columns]",
      "text/html": "<div>\n<style scoped>\n    .dataframe tbody tr th:only-of-type {\n        vertical-align: middle;\n    }\n\n    .dataframe tbody tr th {\n        vertical-align: top;\n    }\n\n    .dataframe thead th {\n        text-align: right;\n    }\n</style>\n<table border=\"1\" class=\"dataframe\">\n  <thead>\n    <tr style=\"text-align: right;\">\n      <th></th>\n      <th>E_0</th>\n      <th>PX_0</th>\n      <th>PY_0</th>\n      <th>PZ_0</th>\n      <th>E_1</th>\n      <th>PX_1</th>\n      <th>PY_1</th>\n      <th>PZ_1</th>\n      <th>E_2</th>\n      <th>PX_2</th>\n      <th>...</th>\n      <th>E_199</th>\n      <th>PX_199</th>\n      <th>PY_199</th>\n      <th>PZ_199</th>\n      <th>truthE</th>\n      <th>truthPX</th>\n      <th>truthPY</th>\n      <th>truthPZ</th>\n      <th>ttv</th>\n      <th>is_signal_new</th>\n    </tr>\n  </thead>\n  <tbody>\n    <tr>\n      <th>375</th>\n      <td>474.071136</td>\n      <td>-250.347031</td>\n      <td>-223.651962</td>\n      <td>-334.738098</td>\n      <td>103.236237</td>\n      <td>-48.866222</td>\n      <td>-56.790775</td>\n      <td>-71.025490</td>\n      <td>105.255569</td>\n      <td>-55.415001</td>\n      <td>...</td>\n      <td>0.0</td>\n      <td>0.0</td>\n      <td>0.0</td>\n      <td>0.0</td>\n      <td>0.000000</td>\n      <td>0.000000</td>\n      <td>0.000000</td>\n      <td>0.000000</td>\n      <td>0</td>\n      <td>0</td>\n    </tr>\n    <tr>\n      <th>377</th>\n      <td>150.504532</td>\n      <td>120.062393</td>\n      <td>76.852005</td>\n      <td>-48.274265</td>\n      <td>82.257057</td>\n      <td>63.801739</td>\n      <td>42.754807</td>\n      <td>-29.454842</td>\n      <td>48.573559</td>\n      <td>36.763199</td>\n      <td>...</td>\n      <td>0.0</td>\n      <td>0.0</td>\n      <td>0.0</td>\n      <td>0.0</td>\n      <td>0.000000</td>\n      <td>0.000000</td>\n      <td>0.000000</td>\n      <td>0.000000</td>\n      <td>0</td>\n      <td>0</td>\n    </tr>\n    <tr>\n      <th>378</th>\n      <td>251.645386</td>\n      <td>10.427651</td>\n      <td>-147.573746</td>\n      <td>203.564880</td>\n      <td>104.147797</td>\n      <td>10.718256</td>\n      <td>-54.497948</td>\n      <td>88.101395</td>\n      <td>78.043213</td>\n      <td>5.724113</td>\n      <td>...</td>\n      <td>0.0</td>\n      <td>0.0</td>\n      <td>0.0</td>\n      <td>0.0</td>\n      <td>0.000000</td>\n      <td>0.000000</td>\n      <td>0.000000</td>\n      <td>0.000000</td>\n      <td>0</td>\n      <td>0</td>\n    </tr>\n    <tr>\n      <th>379</th>\n      <td>451.566132</td>\n      <td>129.885437</td>\n      <td>-99.066292</td>\n      <td>-420.984100</td>\n      <td>208.410919</td>\n      <td>59.033958</td>\n      <td>-46.177090</td>\n      <td>-194.467941</td>\n      <td>190.183304</td>\n      <td>54.069675</td>\n      <td>...</td>\n      <td>0.0</td>\n      <td>0.0</td>\n      <td>0.0</td>\n      <td>0.0</td>\n      <td>0.000000</td>\n      <td>0.000000</td>\n      <td>0.000000</td>\n      <td>0.000000</td>\n      <td>0</td>\n      <td>0</td>\n    </tr>\n    <tr>\n      <th>380</th>\n      <td>399.093903</td>\n      <td>-168.432083</td>\n      <td>-47.205597</td>\n      <td>-358.717438</td>\n      <td>273.691956</td>\n      <td>-121.926941</td>\n      <td>-30.803854</td>\n      <td>-243.088928</td>\n      <td>152.837219</td>\n      <td>-44.400204</td>\n      <td>...</td>\n      <td>0.0</td>\n      <td>0.0</td>\n      <td>0.0</td>\n      <td>0.0</td>\n      <td>0.000000</td>\n      <td>0.000000</td>\n      <td>0.000000</td>\n      <td>0.000000</td>\n      <td>0</td>\n      <td>0</td>\n    </tr>\n    <tr>\n      <th>...</th>\n      <td>...</td>\n      <td>...</td>\n      <td>...</td>\n      <td>...</td>\n      <td>...</td>\n      <td>...</td>\n      <td>...</td>\n      <td>...</td>\n      <td>...</td>\n      <td>...</td>\n      <td>...</td>\n      <td>...</td>\n      <td>...</td>\n      <td>...</td>\n      <td>...</td>\n      <td>...</td>\n      <td>...</td>\n      <td>...</td>\n      <td>...</td>\n      <td>...</td>\n      <td>...</td>\n    </tr>\n    <tr>\n      <th>587</th>\n      <td>206.171997</td>\n      <td>13.942102</td>\n      <td>114.328499</td>\n      <td>-171.001465</td>\n      <td>231.602356</td>\n      <td>19.010832</td>\n      <td>92.303848</td>\n      <td>-211.561432</td>\n      <td>95.868248</td>\n      <td>0.411594</td>\n      <td>...</td>\n      <td>0.0</td>\n      <td>0.0</td>\n      <td>0.0</td>\n      <td>0.0</td>\n      <td>1301.364624</td>\n      <td>48.551048</td>\n      <td>674.270081</td>\n      <td>-1098.891968</td>\n      <td>0</td>\n      <td>1</td>\n    </tr>\n    <tr>\n      <th>591</th>\n      <td>263.984161</td>\n      <td>-40.649391</td>\n      <td>-104.321312</td>\n      <td>239.065552</td>\n      <td>238.690689</td>\n      <td>8.786323</td>\n      <td>-101.236137</td>\n      <td>215.979828</td>\n      <td>126.197868</td>\n      <td>5.939164</td>\n      <td>...</td>\n      <td>0.0</td>\n      <td>0.0</td>\n      <td>0.0</td>\n      <td>0.0</td>\n      <td>1550.415405</td>\n      <td>-38.385075</td>\n      <td>-626.145813</td>\n      <td>1406.682983</td>\n      <td>0</td>\n      <td>1</td>\n    </tr>\n    <tr>\n      <th>592</th>\n      <td>61.417538</td>\n      <td>42.901291</td>\n      <td>43.947723</td>\n      <td>-0.436818</td>\n      <td>45.521763</td>\n      <td>31.723654</td>\n      <td>32.643845</td>\n      <td>-0.469300</td>\n      <td>44.801167</td>\n      <td>29.730831</td>\n      <td>...</td>\n      <td>0.0</td>\n      <td>0.0</td>\n      <td>0.0</td>\n      <td>0.0</td>\n      <td>654.942383</td>\n      <td>394.933441</td>\n      <td>467.778076</td>\n      <td>-162.717285</td>\n      <td>0</td>\n      <td>1</td>\n    </tr>\n    <tr>\n      <th>593</th>\n      <td>261.215302</td>\n      <td>12.780115</td>\n      <td>-132.699203</td>\n      <td>224.635300</td>\n      <td>224.066376</td>\n      <td>52.028233</td>\n      <td>-101.145271</td>\n      <td>193.050354</td>\n      <td>67.573616</td>\n      <td>17.166769</td>\n      <td>...</td>\n      <td>0.0</td>\n      <td>0.0</td>\n      <td>0.0</td>\n      <td>0.0</td>\n      <td>1100.826904</td>\n      <td>220.153702</td>\n      <td>-566.737549</td>\n      <td>901.328003</td>\n      <td>0</td>\n      <td>1</td>\n    </tr>\n    <tr>\n      <th>596</th>\n      <td>221.000015</td>\n      <td>-32.458290</td>\n      <td>-127.960335</td>\n      <td>-177.238876</td>\n      <td>109.126007</td>\n      <td>-16.046606</td>\n      <td>-62.676899</td>\n      <td>-87.878311</td>\n      <td>111.210052</td>\n      <td>0.395372</td>\n      <td>...</td>\n      <td>0.0</td>\n      <td>0.0</td>\n      <td>0.0</td>\n      <td>0.0</td>\n      <td>1407.074341</td>\n      <td>-177.511642</td>\n      <td>-737.924438</td>\n      <td>-1172.384033</td>\n      <td>0</td>\n      <td>1</td>\n    </tr>\n  </tbody>\n</table>\n<p>1211000 rows × 806 columns</p>\n</div>"
     },
     "metadata": {},
     "execution_count": 6
    }
   ],
   "source": [
    "df"
   ]
  },
  {
   "cell_type": "code",
   "execution_count": null,
   "metadata": {},
   "outputs": [],
   "source": []
  }
 ]
}