{
 "metadata": {
  "language_info": {
   "codemirror_mode": {
    "name": "ipython",
    "version": 3
   },
   "file_extension": ".py",
   "mimetype": "text/x-python",
   "name": "python",
   "nbconvert_exporter": "python",
   "pygments_lexer": "ipython3",
   "version": "3.6.10-final"
  },
  "orig_nbformat": 2,
  "kernelspec": {
   "name": "python_defaultSpec_1600379504420",
   "display_name": "Python 3.6.10 64-bit ('tensorflow': conda)"
  }
 },
 "nbformat": 4,
 "nbformat_minor": 2,
 "cells": [
  {
   "cell_type": "code",
   "execution_count": 1,
   "metadata": {},
   "outputs": [],
   "source": [
    "import numpy as np\n",
    "from matplotlib import colors\n",
    "from matplotlib import pyplot as plt\n",
    "import h5py\n",
    "import numpy_indexed as ni"
   ]
  },
  {
   "cell_type": "code",
   "execution_count": 2,
   "metadata": {},
   "outputs": [],
   "source": [
    "data_path = 'processed-pythia82-lhc13-all-pt1-50k-r1_h022_e0175_t220_nonu_withPars_truth.z'\n",
    "f = h5py.File(data_path, 'r')\n",
    "dset = f['t_allpar_new']"
   ]
  },
  {
   "cell_type": "code",
   "execution_count": 3,
   "metadata": {},
   "outputs": [],
   "source": [
    "dset = dset[\"j_index\", \"j1_pt\", \"j1_px\", \"j1_py\", \"j1_pz\", \"j1_e\", \"j_q\", \"j_g\", \"j_w\", \"j_z\", \"j_t\", \"j_undef\"]"
   ]
  },
  {
   "cell_type": "code",
   "execution_count": 4,
   "metadata": {
    "tags": []
   },
   "outputs": [
    {
     "output_type": "stream",
     "name": "stdout",
     "text": "('j_index', 'j1_pt', 'j1_px', 'j1_py', 'j1_pz', 'j1_e', 'j_q', 'j_g', 'j_w', 'j_z', 'j_t', 'j_undef')\n"
    }
   ],
   "source": [
    "print(dset.dtype.names)"
   ]
  },
  {
   "cell_type": "code",
   "execution_count": 5,
   "metadata": {},
   "outputs": [],
   "source": [
    "dset.sort(axis = 0, order = [\"j_index\", \"j1_pt\"])\n",
    "dset = np.flipud(dset)\n",
    "dset = np.delete(dset, np.where(dset[1] == 0), axis = 0)"
   ]
  },
  {
   "cell_type": "code",
   "execution_count": 6,
   "metadata": {
    "tags": []
   },
   "outputs": [
    {
     "output_type": "stream",
     "name": "stdout",
     "text": "0\n10000\n20000\n30000\n40000\n50000\n60000\n70000\n80000\n90000\n100000\n110000\n120000\n130000\n140000\n150000\n160000\n170000\n180000\n190000\n200000\n210000\n220000\n230000\n240000\n250000\n260000\n270000\n280000\n290000\n300000\n310000\n320000\n330000\n340000\n350000\n360000\n370000\n380000\n390000\n400000\n410000\n420000\n430000\n440000\n450000\n460000\n470000\n480000\n490000\n500000\n510000\n520000\n530000\n540000\n550000\n560000\n570000\n580000\n590000\n600000\n610000\n620000\n630000\n640000\n650000\n660000\n670000\n680000\n690000\n700000\n710000\n720000\n730000\n740000\n750000\n760000\n770000\n780000\n790000\n800000\n810000\n820000\n830000\n840000\n850000\n860000\n870000\n880000\n890000\n900000\n910000\n920000\n930000\n940000\n950000\n960000\n970000\n980000\n990000\n1000000\n1010000\n1020000\n1030000\n1040000\n1050000\n1060000\n1070000\n1080000\n1090000\n1100000\n1110000\n1120000\n1130000\n1140000\n1150000\n1160000\n1170000\n1180000\n1190000\n1200000\n1210000\n1220000\n1230000\n1240000\n1250000\n1260000\n1270000\n1280000\n1290000\n1300000\n1310000\n1320000\n1330000\n1340000\n1350000\n1360000\n1370000\n1380000\n1390000\n1400000\n1410000\n1420000\n1430000\n1440000\n1450000\n1460000\n1470000\n1480000\n1490000\n1500000\n1510000\n1520000\n1530000\n1540000\n1550000\n1560000\n1570000\n1580000\n1590000\n1600000\n1610000\n1620000\n1630000\n1640000\n1650000\n1660000\n1670000\n1680000\n1690000\n1700000\n1710000\n1720000\n1730000\n1740000\n1750000\n1760000\n1770000\n1780000\n1790000\n1800000\n1810000\n1820000\n1830000\n1840000\n1850000\n1860000\n1870000\n1880000\n1890000\n1900000\n1910000\n1920000\n1930000\n1940000\n1950000\n1960000\n1970000\n1980000\n1990000\n2000000\n2010000\n2020000\n2030000\n2040000\n2050000\n2060000\n2070000\n2080000\n2090000\n2100000\n2110000\n2120000\n2130000\n2140000\n2150000\n2160000\n2170000\n2180000\n2190000\n2200000\n2210000\n2220000\n2230000\n2240000\n2250000\n2260000\n2270000\n2280000\n2290000\n2300000\n2310000\n2320000\n2330000\n2340000\n2350000\n2360000\n2370000\n2380000\n2390000\n2400000\n2410000\n2420000\n2430000\n2440000\n2450000\n2460000\n2470000\n2480000\n2490000\n2500000\n2510000\n2520000\n2530000\n2540000\n2550000\n2560000\n2570000\n2580000\n2590000\n2600000\n2610000\n2620000\n2630000\n2640000\n2650000\n2660000\n2670000\n2680000\n2690000\n2700000\n2710000\n2720000\n2730000\n2740000\n2750000\n2760000\n2770000\n2780000\n2790000\n2800000\n2810000\n2820000\n2830000\n2840000\n2850000\n2860000\n2870000\n2880000\n2890000\n2900000\n2910000\n2920000\n2930000\n2940000\n2950000\n2960000\n2970000\n2980000\n2990000\n3000000\n3010000\n3020000\n3030000\n3040000\n3050000\n3060000\n3070000\n3080000\n3090000\n3100000\n3110000\n3120000\n3130000\n3140000\n3150000\n3160000\n3170000\n3180000\n3190000\n3200000\n3210000\n3220000\n3230000\n3240000\n3250000\n3260000\n3270000\n3280000\n3290000\n3300000\n3310000\n3320000\n3330000\n3340000\n3350000\n3360000\n3370000\n3380000\n3390000\n"
    },
    {
     "output_type": "error",
     "ename": "KeyboardInterrupt",
     "evalue": "",
     "traceback": [
      "\u001b[1;31m---------------------------------------------------------------------------\u001b[0m",
      "\u001b[1;31mKeyboardInterrupt\u001b[0m                         Traceback (most recent call last)",
      "\u001b[1;32m<ipython-input-6-d4915691b987>\u001b[0m in \u001b[0;36m<module>\u001b[1;34m\u001b[0m\n\u001b[0;32m     16\u001b[0m         \u001b[0mcount\u001b[0m \u001b[1;33m+=\u001b[0m \u001b[1;36m1\u001b[0m\u001b[1;33m\u001b[0m\u001b[1;33m\u001b[0m\u001b[0m\n\u001b[0;32m     17\u001b[0m     \u001b[1;32melse\u001b[0m\u001b[1;33m:\u001b[0m\u001b[1;33m\u001b[0m\u001b[1;33m\u001b[0m\u001b[0m\n\u001b[1;32m---> 18\u001b[1;33m         \u001b[0mmask\u001b[0m \u001b[1;33m=\u001b[0m \u001b[0mnp\u001b[0m\u001b[1;33m.\u001b[0m\u001b[0mappend\u001b[0m\u001b[1;33m(\u001b[0m\u001b[0mmask\u001b[0m\u001b[1;33m,\u001b[0m \u001b[1;32mFalse\u001b[0m\u001b[1;33m)\u001b[0m\u001b[1;33m\u001b[0m\u001b[1;33m\u001b[0m\u001b[0m\n\u001b[0m\u001b[0;32m     19\u001b[0m         \u001b[0mcount\u001b[0m \u001b[1;33m+=\u001b[0m \u001b[1;36m1\u001b[0m\u001b[1;33m\u001b[0m\u001b[1;33m\u001b[0m\u001b[0m\n",
      "\u001b[1;32m<__array_function__ internals>\u001b[0m in \u001b[0;36mappend\u001b[1;34m(*args, **kwargs)\u001b[0m\n",
      "\u001b[1;32m~\\.conda\\envs\\tensorflow\\lib\\site-packages\\numpy\\lib\\function_base.py\u001b[0m in \u001b[0;36mappend\u001b[1;34m(arr, values, axis)\u001b[0m\n\u001b[0;32m   4669\u001b[0m         \u001b[0mvalues\u001b[0m \u001b[1;33m=\u001b[0m \u001b[0mravel\u001b[0m\u001b[1;33m(\u001b[0m\u001b[0mvalues\u001b[0m\u001b[1;33m)\u001b[0m\u001b[1;33m\u001b[0m\u001b[1;33m\u001b[0m\u001b[0m\n\u001b[0;32m   4670\u001b[0m         \u001b[0maxis\u001b[0m \u001b[1;33m=\u001b[0m \u001b[0marr\u001b[0m\u001b[1;33m.\u001b[0m\u001b[0mndim\u001b[0m\u001b[1;33m-\u001b[0m\u001b[1;36m1\u001b[0m\u001b[1;33m\u001b[0m\u001b[1;33m\u001b[0m\u001b[0m\n\u001b[1;32m-> 4671\u001b[1;33m     \u001b[1;32mreturn\u001b[0m \u001b[0mconcatenate\u001b[0m\u001b[1;33m(\u001b[0m\u001b[1;33m(\u001b[0m\u001b[0marr\u001b[0m\u001b[1;33m,\u001b[0m \u001b[0mvalues\u001b[0m\u001b[1;33m)\u001b[0m\u001b[1;33m,\u001b[0m \u001b[0maxis\u001b[0m\u001b[1;33m=\u001b[0m\u001b[0maxis\u001b[0m\u001b[1;33m)\u001b[0m\u001b[1;33m\u001b[0m\u001b[1;33m\u001b[0m\u001b[0m\n\u001b[0m\u001b[0;32m   4672\u001b[0m \u001b[1;33m\u001b[0m\u001b[0m\n\u001b[0;32m   4673\u001b[0m \u001b[1;33m\u001b[0m\u001b[0m\n",
      "\u001b[1;32m<__array_function__ internals>\u001b[0m in \u001b[0;36mconcatenate\u001b[1;34m(*args, **kwargs)\u001b[0m\n",
      "\u001b[1;31mKeyboardInterrupt\u001b[0m: "
     ]
    }
   ],
   "source": [
    "cache = dset[0][\"j_index\"]\n",
    "mask = np.array([], dtype=bool)\n",
    "count = 0\n",
    "for particle in dset:\n",
    "    if mask.shape[0] % 10000 == 0:\n",
    "        print(mask.shape[0])\n",
    "    if not particle[\"j_index\"] == cache:\n",
    "        if count < 13:\n",
    "            for i in range(count):\n",
    "                masklen = mask.shape[0]\n",
    "                mask[masklen - i - 1] = False # throw out jets with less than 13 constituents\n",
    "        cache = particle[\"j_index\"]\n",
    "        count = 0\n",
    "    if count < 13:\n",
    "        mask = np.append(mask, True)\n",
    "        count += 1\n",
    "    else:\n",
    "        mask = np.append(mask, False)\n",
    "        count += 1"
   ]
  },
  {
   "cell_type": "code",
   "execution_count": null,
   "metadata": {},
   "outputs": [],
   "source": [
    "dset = dset[mask]"
   ]
  },
  {
   "cell_type": "code",
   "execution_count": null,
   "metadata": {
    "tags": []
   },
   "outputs": [],
   "source": [
    "print(dset[:100])"
   ]
  },
  {
   "cell_type": "code",
   "execution_count": null,
   "metadata": {},
   "outputs": [],
   "source": []
  }
 ]
}