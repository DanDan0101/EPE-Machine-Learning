{
 "metadata": {
  "language_info": {
   "codemirror_mode": {
    "name": "ipython",
    "version": 3
   },
   "file_extension": ".py",
   "mimetype": "text/x-python",
   "name": "python",
   "nbconvert_exporter": "python",
   "pygments_lexer": "ipython3",
   "version": "3.6.10-final"
  },
  "orig_nbformat": 2,
  "kernelspec": {
   "name": "python_defaultSpec_1599175338761",
   "display_name": "Python 3.6.10 64-bit ('tensorflow': conda)"
  }
 },
 "nbformat": 4,
 "nbformat_minor": 2,
 "cells": [
  {
   "cell_type": "code",
   "execution_count": 1,
   "metadata": {},
   "outputs": [],
   "source": [
    "import h5py\n",
    "import pandas as pd\n",
    "import numpy as np"
   ]
  },
  {
   "cell_type": "code",
   "execution_count": 2,
   "metadata": {},
   "outputs": [],
   "source": [
    "df_train = pd.read_hdf(\"zenodo/train.h5\", key='table')\n",
    "df_val = pd.read_hdf(\"zenodo/val.h5\", key='table')\n",
    "df_test = pd.read_hdf(\"zenodo/test.h5\", key='table')"
   ]
  },
  {
   "cell_type": "code",
   "execution_count": 3,
   "metadata": {},
   "outputs": [],
   "source": [
    "df_train_features = df_train.iloc[:,0:52]\n",
    "df_train_labels = df_train['is_signal_new']\n",
    "\n",
    "df_val_features = df_val.iloc[:,0:52]\n",
    "df_val_labels = df_val['is_signal_new']\n",
    "\n",
    "df_test_features = df_test.iloc[:,0:52]\n",
    "df_test_labels = df_test['is_signal_new']"
   ]
  },
  {
   "cell_type": "code",
   "execution_count": 4,
   "metadata": {},
   "outputs": [],
   "source": [
    "X_train = df_train_features.to_numpy()\n",
    "X_train = X_train.reshape((1211000, 13, 4))\n",
    "y_train = df_train_labels.to_numpy()\n",
    "y_train = y_train.reshape((1211000, 1))\n",
    "\n",
    "X_val = df_val_features.to_numpy()\n",
    "X_val = X_val.reshape((403000, 13, 4))\n",
    "y_val = df_val_labels.to_numpy()\n",
    "y_val = y_val.reshape((403000, 1))\n",
    "\n",
    "X_test = df_test_features.to_numpy()\n",
    "X_test = X_test.reshape((404000, 13, 4))\n",
    "y_test = df_test_labels.to_numpy()\n",
    "y_test = y_test.reshape((404000, 1))"
   ]
  },
  {
   "cell_type": "code",
   "execution_count": 5,
   "metadata": {},
   "outputs": [],
   "source": [
    "h5f_X_train = h5py.File('X_train.h5', 'w')\n",
    "h5f_X_train.create_dataset('data', data=X_train)\n",
    "h5f_X_train.close()\n",
    "\n",
    "h5f_y_train = h5py.File('y_train.h5', 'w')\n",
    "h5f_y_train.create_dataset('data', data=y_train)\n",
    "h5f_y_train.close()\n",
    "\n",
    "h5f_X_val = h5py.File('X_val.h5', 'w')\n",
    "h5f_X_val.create_dataset('data', data=X_val)\n",
    "h5f_X_val.close()\n",
    "\n",
    "h5f_y_val = h5py.File('y_val.h5', 'w')\n",
    "h5f_y_val.create_dataset('data', data=y_val)\n",
    "h5f_y_val.close()\n",
    "\n",
    "h5f_X_test = h5py.File('X_test.h5', 'w')\n",
    "h5f_X_test.create_dataset('data', data=X_test)\n",
    "h5f_X_test.close()\n",
    "\n",
    "h5f_y_test = h5py.File('y_test.h5', 'w')\n",
    "h5f_y_test.create_dataset('data', data=y_test)\n",
    "h5f_y_test.close()"
   ]
  }
 ]
}